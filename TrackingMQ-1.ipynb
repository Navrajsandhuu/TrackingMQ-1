{
 "cells": [
  {
   "cell_type": "markdown",
   "metadata": {
    "hideCode": false,
    "hidePrompt": false,
    "slideshow": {
     "slide_type": "slide"
    }
   },
   "source": [
    " $$\\LARGE{Tracking Mini-Quiz 1 - Winter 2024}$$\n",
    "\n",
    "\n",
    "Using: \n",
    "\n",
    "1. the Python and Open Modelica code developed for the P1 and P2 submissions,  \n",
    "1. the current set of TLEs for the GPS constellation: gps-ops.txt (obtain the latest one from https://celestrak.org/NORAD/elements/gp.php?GROUP=gps-ops&FORMAT=tle)\n",
    "\n",
    "answer the following questions.  Test duration is 90 minutes\n",
    "\n",
    "# Question 1\n",
    "\n",
    "Read in all TLEs from the above file and select PRN 24.  Print out the following:  \n",
    "  \n",
    "(a) $\\small{[2 ~points]}$ The Gregorian date of the TLE reference epoch,  \n",
    "(b) $\\small{[2 ~points]}$ Extract and print the satellite Mean Anomaly and Mean motion of the orbit at this epoch,  \n",
    "(c) $\\small{[6 ~points]}$ Write a simple Open Modelica model which instantiates your group's `Satellite` model from P1.  \n",
    "(d) $\\small{[10 ~points]}$Using this simple model, provide the mean motion, mean anomaly and semi-major axis for a 30 minute period starting at 16-March-2024 12:00:00 local time.  Only output the values every 60 seconds.  The table should look like the following:  \n",
    "  \n",
    "`Time (Epsec)   N (rev/day)     M (degrees)         a (km)`  \n",
    "`sssss             xxxxx              yyyyy         xxxx`  \n",
    "`sssss+60        ...N                  ...M         ...a`        \n",
    "`... `   \n",
    "`sssss+1800        ...N                  ...M        ...a`\n",
    "  \n",
    "Submit the Python and Open Modelica model source and provide the output.  Note: you do not need to provide the Python functions nor the Open Modelica models developed for P1 or P2.  Only the Python calling program and the simple Open Modelica model is sufficient.  Feel free to split up the answer cells below as you wish. \n",
    "  "
   ]
  },
  {
   "cell_type": "code",
   "execution_count": 2,
   "metadata": {
    "hideCode": false,
    "hidePrompt": false,
    "slideshow": {
     "slide_type": "slide"
    }
   },
   "outputs": [],
   "source": [
    "#Question 1 -   Python source code for parts a and b:  \n",
    "  \n",
    "# TODO: Read in the gps-ops.txt file from Celestrak\n",
    "\n",
    "\n",
    "#TODO: Extract and print out the properties of PRN 20 (including Mean Anomaly and motion)\n",
    "\n"
   ]
  },
  {
   "cell_type": "markdown",
   "metadata": {
    "hideCode": false,
    "hidePrompt": false,
    "slideshow": {
     "slide_type": "slide"
    }
   },
   "source": [
    "Open Modelica listing for `Satellite` test model (Question 1, part c):\n",
    "\n",
    "*(insert your model code here)*  \n",
    "```modelica\n",
    "model MiniQ_1 \"Instantiates Satellite Model for Tracking Mini-Quiz 1\"\n",
    "    ...\n",
    "    ...\n",
    "\n",
    "\n",
    "end MiniQ_1;\n",
    "```"
   ]
  },
  {
   "cell_type": "code",
   "execution_count": 56,
   "metadata": {
    "hideCode": false,
    "hidePrompt": false,
    "slideshow": {
     "slide_type": "slide"
    }
   },
   "outputs": [],
   "source": [
    "#TODO: Open your test model from part d, propagate starting at 17-March-2023 12:00:00 UTC\n",
    "# Calculate tstart value\n",
    "\n",
    "\n",
    "# Start Open Modelic session\n",
    "\n",
    "\n",
    "\n",
    "#Set up parameters in the model\n",
    "\n",
    "\n",
    "\n",
    "#Check params have been set\n",
    "\n",
    "\n",
    "# Set simulation parameters\n",
    "\n",
    "\n",
    "# Extract time, Mean Anomaly, Mean Motion and Semi-major axis from Open Modelica solution\n",
    "\n",
    "\n",
    "# Print out Mean anomaly, mean motion for tracking time"
   ]
  },
  {
   "cell_type": "markdown",
   "metadata": {},
   "source": [
    "# Question 2\n",
    "\n",
    "$\\small{[10~points]}$ Set up an STK scenario and add the GPS satellites using the TLE file from above.  Set the scenario epoch to the epoch of PRN 24.  Generate a custom report for PRN 24 with columns of \"Epoch seconds\", \"Mean Anomaly (deg)\" and \"Mean Motion (rev/d)\".  Use the same time range as for question 1 and provide the output for every 60 seconds. Cut and paste the custom report into your text file."
   ]
  },
  {
   "cell_type": "markdown",
   "metadata": {},
   "source": [
    "Question 2 - STK Report\n",
    "\n",
    "\n",
    "*(insert report values from STK here)*"
   ]
  }
 ],
 "metadata": {
  "celltoolbar": "Hide code",
  "hide_code_all_hidden": false,
  "kernelspec": {
   "display_name": "Python 3 (ipykernel)",
   "language": "python",
   "name": "python3"
  },
  "language_info": {
   "codemirror_mode": {
    "name": "ipython",
    "version": 3
   },
   "file_extension": ".py",
   "mimetype": "text/x-python",
   "name": "python",
   "nbconvert_exporter": "python",
   "pygments_lexer": "ipython3",
   "version": "3.11.5"
  },
  "toc": {
   "base_numbering": 1,
   "nav_menu": {},
   "number_sections": true,
   "sideBar": true,
   "skip_h1_title": false,
   "title_cell": "Table of Contents",
   "title_sidebar": "Contents",
   "toc_cell": false,
   "toc_position": {},
   "toc_section_display": true,
   "toc_window_display": false
  },
  "varInspector": {
   "cols": {
    "lenName": 16,
    "lenType": 16,
    "lenVar": 40
   },
   "kernels_config": {
    "python": {
     "delete_cmd_postfix": "",
     "delete_cmd_prefix": "del ",
     "library": "var_list.py",
     "varRefreshCmd": "print(var_dic_list())"
    },
    "r": {
     "delete_cmd_postfix": ") ",
     "delete_cmd_prefix": "rm(",
     "library": "var_list.r",
     "varRefreshCmd": "cat(var_dic_list()) "
    }
   },
   "types_to_exclude": [
    "module",
    "function",
    "builtin_function_or_method",
    "instance",
    "_Feature"
   ],
   "window_display": false
  },
  "widgets": {
   "application/vnd.jupyter.widget-state+json": {
    "state": {},
    "version_major": 2,
    "version_minor": 0
   }
  }
 },
 "nbformat": 4,
 "nbformat_minor": 4
}
